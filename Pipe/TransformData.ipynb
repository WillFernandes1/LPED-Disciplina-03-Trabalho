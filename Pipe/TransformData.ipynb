{
 "cells": [
  {
   "cell_type": "code",
   "execution_count": 12,
   "metadata": {},
   "outputs": [
    {
     "name": "stdout",
     "output_type": "stream",
     "text": [
      "Requirement already satisfied: duckdb in c:\\users\\wilke\\anaconda3\\lib\\site-packages (0.10.0)\n",
      "Note: you may need to restart the kernel to use updated packages.\n"
     ]
    }
   ],
   "source": [
    "%pip install duckdb"
   ]
  },
  {
   "cell_type": "code",
   "execution_count": 13,
   "metadata": {},
   "outputs": [],
   "source": [
    "import duckdb \n",
    "import os\n",
    "import time\n",
    "\n",
    "#Importa as Libs e cria o Banco de Dados onde será persistido posteriormente os dados.\n",
    "con = duckdb.connect(database=\"ibge.db\",read_only=False)\n",
    "# Apenas para verificar execução.\n"
   ]
  },
  {
   "cell_type": "code",
   "execution_count": 14,
   "metadata": {},
   "outputs": [
    {
     "data": {
      "text/plain": [
       "<duckdb.duckdb.DuckDBPyConnection at 0x1ad774ceff0>"
      ]
     },
     "execution_count": 14,
     "metadata": {},
     "output_type": "execute_result"
    }
   ],
   "source": [
    "#Cria a tabela se ela não existir, definida por DATA_IBGE\n",
    "#COD_UF\n",
    "#COD_MUN\n",
    "#COD_ESPECIE\n",
    "#LATITUDE\n",
    "#LONGITUDE\n",
    "\n",
    "con.execute(\n",
    "\n",
    "\"\"\"\n",
    "\n",
    "  CREATE TABLE IF NOT EXISTS DATA_IBGE (\n",
    "  COD_UF       INTEGER  NOT NULL\n",
    "  ,COD_MUN      INTEGER  NOT NULL\n",
    "  ,COD_ESPECIE  INTEGER  NOT NULL\n",
    "  ,LATITUDE       NUMERIC(9,6) NOT NULL\n",
    "  ,LONGITUDE      NUMERIC(10,6) NOT NULL\n",
    "  ,NV_GEO_COORD INTEGER  NOT NULL\n",
    ") \n",
    "\"\"\"\n",
    ")"
   ]
  },
  {
   "cell_type": "code",
   "execution_count": 15,
   "metadata": {},
   "outputs": [
    {
     "data": {
      "text/plain": [
       "┌────────┬─────────┬─────────────┬──────────────┬───────────────┬──────────────┐\n",
       "│ COD_UF │ COD_MUN │ COD_ESPECIE │   LATITUDE   │   LONGITUDE   │ NV_GEO_COORD │\n",
       "│ int32  │  int32  │    int32    │ decimal(9,6) │ decimal(10,6) │    int32     │\n",
       "├──────────────────────────────────────────────────────────────────────────────┤\n",
       "│                                    0 rows                                    │\n",
       "└──────────────────────────────────────────────────────────────────────────────┘"
      ]
     },
     "execution_count": 15,
     "metadata": {},
     "output_type": "execute_result"
    }
   ],
   "source": [
    "#Verificando se a tabela foi criada.\n",
    "con.sql(\"SELECT * FROM DATA_IBGE\")\n"
   ]
  },
  {
   "cell_type": "markdown",
   "metadata": {},
   "source": [
    "```\n",
    "Uma outra possibilidade, seria utilizando o pyarrow para processamento, localizando os arquivos localmente, salvando-os em parquet, \n",
    "mas para esta solução, optamos pelo DuckDB.\n",
    "\n",
    "\n",
    "import pyarrow as pa\n",
    "import pyarrow.csv as pacsv\n",
    "import pyarrow.parquet as papq\n",
    "import os\n",
    "# Especifique o diretório que você deseja listar\n",
    "path = os.getcwd()\n",
    "# Lista todos os arquivos e diretórios no diretório especificado\n",
    "arquivo = os.listdir(path)\n",
    "\n",
    "database_path = r\"C:\\Users\\wilke\\OneDrive\\Área de Trabalho\\Unifor\\Engenharia de dados\\IBGE\\Pipe\\database\"\n",
    "tables = []\n",
    "\n",
    "for arquivos in arquivo:\n",
    "    if arquivos.endswith('.csv'):\n",
    "        files_path = os.path.join(path, arquivos)\n",
    "        try:\n",
    "            table = pacsv.read_csv(files_path)\n",
    "            tables.append(table)\n",
    "        except Exception as e:\n",
    "            print(f\"Erro ao ler {arquivo}: {e}\")\n",
    "\n",
    "temp = r\"C:\\Users\\wilke\\OneDrive\\Área de Trabalho\\Unifor\\Engenharia de dados\\IBGE\\Pipe\\database\\ibge.parquet\"\n",
    "\n",
    "database = pa.concat_tables(tables)\n",
    "\n",
    "papq.write_table(database,temp,compression='snappy')\n",
    "        \n",
    "print(\"Conversão concluída.\")\n",
    "```\n",
    "      "
   ]
  },
  {
   "cell_type": "code",
   "execution_count": 16,
   "metadata": {},
   "outputs": [
    {
     "name": "stdout",
     "output_type": "stream",
     "text": [
      "c:\\Users\\wilke\\OneDrive\\Área de Trabalho\\Unifor\\Engenharia de dados\\IBGE\\Pipe\n"
     ]
    }
   ],
   "source": [
    "#Obtendo caminho local\n",
    "#Uma outra possibilidade seria a solução também, ser utilizada lendo diretamente em outros serviços, o google collab para fins de estudos poderia ler diretamente no google drive, fazendo a conexão com o google drive ou demais fontes conectoras em nuvem.\n",
    "#No caso utilizei a leitura local.\n",
    "\n",
    "path = os.getcwd()\n",
    "\n",
    "print(path)\n",
    "\n"
   ]
  },
  {
   "cell_type": "code",
   "execution_count": 17,
   "metadata": {},
   "outputs": [
    {
     "data": {
      "application/vnd.jupyter.widget-view+json": {
       "model_id": "27803877063b425e9dc755bb7a62aea8",
       "version_major": 2,
       "version_minor": 0
      },
      "text/plain": [
       "FloatProgress(value=0.0, layout=Layout(width='auto'), style=ProgressStyle(bar_color='black'))"
      ]
     },
     "metadata": {},
     "output_type": "display_data"
    },
    {
     "name": "stdout",
     "output_type": "stream",
     "text": [
      "CPU times: total: 1min 7s\n",
      "Wall time: 18.1 s\n"
     ]
    }
   ],
   "source": [
    "%%time\n",
    "\n",
    "con.sql(f\"COPY (SELECT * FROM '{path}/*.csv') TO 'data'   (FORMAT PARQUET,PER_THREAD_OUTPUT true, COMPRESSION Snappy,OVERWRITE_OR_IGNORE 1, ROW_GROUP_SIZE 100_000);\")\n",
    "#salvando em parquet no folder data, onde poderia ser uma outra camada do processo, dependendo da arquitetura, parametros de encoding viabilizados pela documentação\n"
   ]
  },
  {
   "cell_type": "markdown",
   "metadata": {},
   "source": [
    "No nosso projeto, estamos dividindo os parquets em 7 partes, isto pode ser utilizado com outras estratégias de armazenamento como no exemplo a seguir:\n",
    "\n",
    "```bash\n",
    "├── year=2021\n",
    "│ ├── month=1\n",
    "│ │ ├── data_1.parquet\n",
    "│ │ └── data_2.parquet\n",
    "│ └── month=2\n",
    "│ └── data_1.parquet\n",
    "└── year=2022\n",
    "├── month=11\n",
    "│ ├── data_1.parquet\n",
    "│ └── data_2.parquet\n",
    "└── month=12\n",
    "└── data_1.parquet\n",
    "```"
   ]
  },
  {
   "cell_type": "code",
   "execution_count": 18,
   "metadata": {},
   "outputs": [
    {
     "data": {
      "application/vnd.jupyter.widget-view+json": {
       "model_id": "99b9d09ee00244d0a4bb31aaf5e790fe",
       "version_major": 2,
       "version_minor": 0
      },
      "text/plain": [
       "FloatProgress(value=0.0, layout=Layout(width='auto'), style=ProgressStyle(bar_color='black'))"
      ]
     },
     "metadata": {},
     "output_type": "display_data"
    },
    {
     "name": "stdout",
     "output_type": "stream",
     "text": [
      "CPU times: total: 45.5 s\n",
      "Wall time: 10.6 s\n"
     ]
    }
   ],
   "source": [
    "%%time\n",
    "con.sql(f\"INSERT INTO DATA_IBGE SELECT * FROM '{path}/data/*.parquet'\")\n"
   ]
  },
  {
   "cell_type": "code",
   "execution_count": 19,
   "metadata": {},
   "outputs": [
    {
     "name": "stdout",
     "output_type": "stream",
     "text": [
      "CPU times: total: 0 ns\n",
      "Wall time: 0 ns\n"
     ]
    },
    {
     "data": {
      "text/plain": [
       "┌─────────────────┐\n",
       "│ TOTAL_DE_LINHAS │\n",
       "│      int64      │\n",
       "├─────────────────┤\n",
       "│       111102875 │\n",
       "└─────────────────┘"
      ]
     },
     "execution_count": 19,
     "metadata": {},
     "output_type": "execute_result"
    }
   ],
   "source": [
    "%%time\n",
    "con.sql(\"SELECT COUNT(*)  AS TOTAL_DE_LINHAS FROM DATA_IBGE\")\n",
    "#Verificando o total de linhas inseridas\n"
   ]
  },
  {
   "cell_type": "code",
   "execution_count": 20,
   "metadata": {},
   "outputs": [
    {
     "name": "stdout",
     "output_type": "stream",
     "text": [
      "CPU times: total: 0 ns\n",
      "Wall time: 0 ns\n"
     ]
    },
    {
     "data": {
      "text/plain": [
       "┌───────┬────────────────────┐\n",
       "│  UF   │ Total_de_Registros │\n",
       "│ int32 │       int64        │\n",
       "├───────┼────────────────────┤\n",
       "│    11 │             965370 │\n",
       "│    12 │             410524 │\n",
       "│    13 │            1658970 │\n",
       "│    14 │             260515 │\n",
       "│    15 │            3911170 │\n",
       "│    16 │             312665 │\n",
       "│    17 │             848437 │\n",
       "│    21 │            3257843 │\n",
       "│    22 │            1891421 │\n",
       "│    23 │            4750642 │\n",
       "│     · │               ·    │\n",
       "│     · │               ·    │\n",
       "│     · │               ·    │\n",
       "│    32 │            2221348 │\n",
       "│    33 │            8962200 │\n",
       "│    35 │           22953725 │\n",
       "│    41 │            6122025 │\n",
       "│    42 │            4181139 │\n",
       "│    43 │            6456747 │\n",
       "│    50 │            1507819 │\n",
       "│    51 │            1985314 │\n",
       "│    52 │            3960937 │\n",
       "│    53 │            1318887 │\n",
       "├───────┴────────────────────┤\n",
       "│     27 rows (20 shown)     │\n",
       "└────────────────────────────┘"
      ]
     },
     "execution_count": 20,
     "metadata": {},
     "output_type": "execute_result"
    }
   ],
   "source": [
    "%%time\n",
    "con.sql('SELECT COD_UF as UF,COUNT(COD_UF) AS Total_de_Registros FROM DATA_IBGE GROUP BY COD_UF')\n"
   ]
  },
  {
   "cell_type": "code",
   "execution_count": 21,
   "metadata": {},
   "outputs": [],
   "source": [
    "con.close()\n",
    "\n",
    "\n"
   ]
  },
  {
   "cell_type": "code",
   "execution_count": 22,
   "metadata": {},
   "outputs": [],
   "source": [
    "# Utilizado a documentação do Duck DB referenciada: https://duckdb.org/docs/guides/index\n",
    "# Parquet Files https://duckdb.org/docs/data/partitioning/partitioned_writes\n",
    "# How to head CSV Files https://duckdb.org/docs/guides/import/csv_import\n"
   ]
  }
 ],
 "metadata": {
  "kernelspec": {
   "display_name": "base",
   "language": "python",
   "name": "python3"
  },
  "language_info": {
   "codemirror_mode": {
    "name": "ipython",
    "version": 3
   },
   "file_extension": ".py",
   "mimetype": "text/x-python",
   "name": "python",
   "nbconvert_exporter": "python",
   "pygments_lexer": "ipython3",
   "version": "3.11.5"
  }
 },
 "nbformat": 4,
 "nbformat_minor": 2
}
