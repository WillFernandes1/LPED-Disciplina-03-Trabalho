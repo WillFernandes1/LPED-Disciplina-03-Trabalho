{
 "cells": [
  {
   "cell_type": "code",
   "execution_count": null,
   "metadata": {},
   "outputs": [],
   "source": [
    "%pip install duckdb"
   ]
  },
  {
   "cell_type": "code",
   "execution_count": 11,
   "metadata": {},
   "outputs": [],
   "source": [
    "import duckdb \n",
    "import os\n",
    "import time\n",
    "\n",
    "#Importa as Libs e cria o Banco de Dados onde será persistido posteriormente os dados.\n",
    "con = duckdb.connect(database=\"ibge.db\",read_only=False)\n",
    "# Apenas para verificar execução.\n"
   ]
  },
  {
   "cell_type": "code",
   "execution_count": 12,
   "metadata": {},
   "outputs": [
    {
     "data": {
      "text/plain": [
       "<duckdb.duckdb.DuckDBPyConnection at 0x180099e99b0>"
      ]
     },
     "execution_count": 12,
     "metadata": {},
     "output_type": "execute_result"
    }
   ],
   "source": [
    "#Cria a tabela se ela não existir, definida por DATA_IBGE\n",
    "#COD_UF\n",
    "#COD_MUN\n",
    "#COD_ESPECIE\n",
    "#LATITUDE\n",
    "#LONGITUDE\n",
    "\n",
    "con.execute(\n",
    "\n",
    "\"\"\"\n",
    "\n",
    "  CREATE TABLE IF NOT EXISTS DATA_IBGE (\n",
    "  COD_UF       INTEGER  NOT NULL\n",
    "  ,COD_MUN      INTEGER  NOT NULL\n",
    "  ,COD_ESPECIE  INTEGER  NOT NULL\n",
    "  ,LATITUDE       NUMERIC(9,6) NOT NULL\n",
    "  ,LONGITUDE      NUMERIC(10,6) NOT NULL\n",
    "  ,NV_GEO_COORD INTEGER  NOT NULL\n",
    ") \n",
    "\"\"\"\n",
    ")"
   ]
  },
  {
   "cell_type": "code",
   "execution_count": 13,
   "metadata": {},
   "outputs": [
    {
     "data": {
      "text/plain": [
       "┌────────┬─────────┬─────────────┬──────────────┬───────────────┬──────────────┐\n",
       "│ COD_UF │ COD_MUN │ COD_ESPECIE │   LATITUDE   │   LONGITUDE   │ NV_GEO_COORD │\n",
       "│ int32  │  int32  │    int32    │ decimal(9,6) │ decimal(10,6) │    int32     │\n",
       "├────────┼─────────┼─────────────┼──────────────┼───────────────┼──────────────┤\n",
       "│     17 │ 1718881 │           1 │    -8.771718 │    -47.747535 │            1 │\n",
       "│     17 │ 1718881 │           1 │    -8.771760 │    -47.747354 │            1 │\n",
       "│     17 │ 1718881 │           1 │    -8.771843 │    -47.747104 │            1 │\n",
       "│     17 │ 1718881 │           1 │    -8.772038 │    -47.746765 │            1 │\n",
       "│     17 │ 1718881 │           1 │    -8.772228 │    -47.746795 │            1 │\n",
       "│     17 │ 1718881 │           6 │    -8.772457 │    -47.746936 │            1 │\n",
       "│     17 │ 1718881 │           1 │    -8.772422 │    -47.747123 │            1 │\n",
       "│     17 │ 1718881 │           1 │    -8.772378 │    -47.747278 │            1 │\n",
       "│     17 │ 1718881 │           1 │    -8.772336 │    -47.747404 │            1 │\n",
       "│     17 │ 1718881 │           1 │    -8.772321 │    -47.747440 │            1 │\n",
       "│      · │    ·    │           · │        ·     │         ·     │            · │\n",
       "│      · │    ·    │           · │        ·     │         ·     │            · │\n",
       "│      · │    ·    │           · │        ·     │         ·     │            · │\n",
       "│     17 │ 1702109 │           1 │    -7.201646 │    -48.205332 │            1 │\n",
       "│     17 │ 1702109 │           1 │    -7.201650 │    -48.205340 │            1 │\n",
       "│     17 │ 1702109 │           1 │    -7.201571 │    -48.205287 │            1 │\n",
       "│     17 │ 1702109 │           1 │    -7.201496 │    -48.205321 │            1 │\n",
       "│     17 │ 1702109 │           6 │    -7.201495 │    -48.205304 │            1 │\n",
       "│     17 │ 1702109 │           1 │    -7.202129 │    -48.205145 │            1 │\n",
       "│     17 │ 1702109 │           1 │    -7.202205 │    -48.205069 │            1 │\n",
       "│     17 │ 1702109 │           1 │    -7.202163 │    -48.205054 │            1 │\n",
       "│     17 │ 1702109 │           1 │    -7.202170 │    -48.204900 │            1 │\n",
       "│     17 │ 1702109 │           1 │    -7.202199 │    -48.204835 │            1 │\n",
       "├────────┴─────────┴─────────────┴──────────────┴───────────────┴──────────────┤\n",
       "│ ? rows (>9999 rows, 20 shown)                                      6 columns │\n",
       "└──────────────────────────────────────────────────────────────────────────────┘"
      ]
     },
     "execution_count": 13,
     "metadata": {},
     "output_type": "execute_result"
    }
   ],
   "source": [
    "#Verificando se a tabela foi criada.\n",
    "con.sql(\"SELECT * FROM DATA_IBGE\")\n"
   ]
  },
  {
   "cell_type": "markdown",
   "metadata": {},
   "source": [
    "```\n",
    "Uma outra possibilidade, seria utilizando o pyarrow para processamento, localizando os arquivos localmente, salvando-os em parquet, \n",
    "mas para esta solução, optamos pelo DuckDB.\n",
    "\n",
    "\n",
    "import pyarrow as pa\n",
    "import pyarrow.csv as pacsv\n",
    "import pyarrow.parquet as papq\n",
    "import os\n",
    "# Especifique o diretório que você deseja listar\n",
    "path = os.getcwd()\n",
    "# Lista todos os arquivos e diretórios no diretório especificado\n",
    "arquivo = os.listdir(path)\n",
    "\n",
    "database_path = r\"C:\\Users\\wilke\\OneDrive\\Área de Trabalho\\Unifor\\Engenharia de dados\\IBGE\\Pipe\\database\"\n",
    "tables = []\n",
    "\n",
    "for arquivos in arquivo:\n",
    "    if arquivos.endswith('.csv'):\n",
    "        files_path = os.path.join(path, arquivos)\n",
    "        try:\n",
    "            table = pacsv.read_csv(files_path)\n",
    "            tables.append(table)\n",
    "        except Exception as e:\n",
    "            print(f\"Erro ao ler {arquivo}: {e}\")\n",
    "\n",
    "temp = r\"C:\\Users\\wilke\\OneDrive\\Área de Trabalho\\Unifor\\Engenharia de dados\\IBGE\\Pipe\\database\\ibge.parquet\"\n",
    "\n",
    "database = pa.concat_tables(tables)\n",
    "\n",
    "papq.write_table(database,temp,compression='snappy')\n",
    "        \n",
    "print(\"Conversão concluída.\")\n",
    "```\n",
    "      "
   ]
  },
  {
   "cell_type": "code",
   "execution_count": 14,
   "metadata": {},
   "outputs": [
    {
     "name": "stdout",
     "output_type": "stream",
     "text": [
      "c:\\Users\\wilke\\OneDrive\\Área de Trabalho\\Unifor\\Engenharia de dados\\IBGE\\Pipe\n"
     ]
    }
   ],
   "source": [
    "#Obtendo caminho local\n",
    "#Uma outra possibilidade seria a solução também, ser utilizada lendo diretamente em outros serviços, o google collab para fins de estudos poderia ler diretamente no google drive, fazendo a conexão com o google drive ou demais fontes conectoras em nuvem.\n",
    "#No caso utilizei a leitura local.\n",
    "\n",
    "path = os.getcwd()\n",
    "\n",
    "print(path)\n",
    "\n"
   ]
  },
  {
   "cell_type": "code",
   "execution_count": 15,
   "metadata": {},
   "outputs": [
    {
     "data": {
      "application/vnd.jupyter.widget-view+json": {
       "model_id": "4722d37dc26545a19ab38f5b9ae8823e",
       "version_major": 2,
       "version_minor": 0
      },
      "text/plain": [
       "FloatProgress(value=0.0, layout=Layout(width='auto'), style=ProgressStyle(bar_color='black'))"
      ]
     },
     "metadata": {},
     "output_type": "display_data"
    },
    {
     "name": "stdout",
     "output_type": "stream",
     "text": [
      "CPU times: total: 1min 7s\n",
      "Wall time: 20.3 s\n"
     ]
    }
   ],
   "source": [
    "%%time\n",
    "\n",
    "con.sql(f\"COPY (SELECT * FROM '{path}/*.csv') TO 'data'   (FORMAT PARQUET,PER_THREAD_OUTPUT true, COMPRESSION Snappy,OVERWRITE_OR_IGNORE 1, ROW_GROUP_SIZE 100_000);\")\n",
    "#salvando em parquet no folder data, onde poderia ser uma outra camada do processo, dependendo da arquitetura, parametros de encoding viabilizados pela documentação\n"
   ]
  },
  {
   "cell_type": "markdown",
   "metadata": {},
   "source": [
    "No nosso projeto, estamos dividindo os parquets em 7 partes, isto pode ser utilizado com outras estratégias de armazenamento como no exemplo a seguir:\n",
    "\n",
    "```bash\n",
    "├── year=2021\n",
    "│ ├── month=1\n",
    "│ │ ├── data_1.parquet\n",
    "│ │ └── data_2.parquet\n",
    "│ └── month=2\n",
    "│ └── data_1.parquet\n",
    "└── year=2022\n",
    "├── month=11\n",
    "│ ├── data_1.parquet\n",
    "│ └── data_2.parquet\n",
    "└── month=12\n",
    "└── data_1.parquet\n",
    "```"
   ]
  },
  {
   "cell_type": "code",
   "execution_count": 16,
   "metadata": {},
   "outputs": [
    {
     "data": {
      "application/vnd.jupyter.widget-view+json": {
       "model_id": "fdff9939fc554c33819fcbc4b1d3d925",
       "version_major": 2,
       "version_minor": 0
      },
      "text/plain": [
       "FloatProgress(value=0.0, layout=Layout(width='auto'), style=ProgressStyle(bar_color='black'))"
      ]
     },
     "metadata": {},
     "output_type": "display_data"
    },
    {
     "name": "stdout",
     "output_type": "stream",
     "text": [
      "CPU times: total: 49.9 s\n",
      "Wall time: 12.2 s\n"
     ]
    }
   ],
   "source": [
    "%%time\n",
    "con.sql(f\"INSERT INTO DATA_IBGE SELECT * FROM '{path}/data/*.parquet'\")\n"
   ]
  },
  {
   "cell_type": "code",
   "execution_count": 17,
   "metadata": {},
   "outputs": [
    {
     "name": "stdout",
     "output_type": "stream",
     "text": [
      "CPU times: total: 0 ns\n",
      "Wall time: 964 µs\n"
     ]
    },
    {
     "data": {
      "text/plain": [
       "┌─────────────────┐\n",
       "│ TOTAL_DE_LINHAS │\n",
       "│      int64      │\n",
       "├─────────────────┤\n",
       "│       222205750 │\n",
       "└─────────────────┘"
      ]
     },
     "execution_count": 17,
     "metadata": {},
     "output_type": "execute_result"
    }
   ],
   "source": [
    "%%time\n",
    "con.sql(\"SELECT COUNT(*)  AS TOTAL_DE_LINHAS FROM DATA_IBGE\")\n",
    "#Verificando o total de linhas inseridas\n"
   ]
  },
  {
   "cell_type": "code",
   "execution_count": 18,
   "metadata": {},
   "outputs": [
    {
     "name": "stdout",
     "output_type": "stream",
     "text": [
      "CPU times: total: 0 ns\n",
      "Wall time: 0 ns\n"
     ]
    },
    {
     "data": {
      "text/plain": [
       "┌───────┬────────────────────┐\n",
       "│  UF   │ Total_de_Registros │\n",
       "│ int32 │       int64        │\n",
       "├───────┼────────────────────┤\n",
       "│    11 │            1930740 │\n",
       "│    12 │             821048 │\n",
       "│    13 │            3317940 │\n",
       "│    14 │             521030 │\n",
       "│    15 │            7822340 │\n",
       "│    16 │             625330 │\n",
       "│    17 │            1696874 │\n",
       "│    21 │            6515686 │\n",
       "│    22 │            3782842 │\n",
       "│    23 │            9501284 │\n",
       "│     · │               ·    │\n",
       "│     · │               ·    │\n",
       "│     · │               ·    │\n",
       "│    32 │            4442696 │\n",
       "│    33 │           17924400 │\n",
       "│    35 │           45907450 │\n",
       "│    41 │           12244050 │\n",
       "│    42 │            8362278 │\n",
       "│    43 │           12913494 │\n",
       "│    50 │            3015638 │\n",
       "│    51 │            3970628 │\n",
       "│    52 │            7921874 │\n",
       "│    53 │            2637774 │\n",
       "├───────┴────────────────────┤\n",
       "│     27 rows (20 shown)     │\n",
       "└────────────────────────────┘"
      ]
     },
     "execution_count": 18,
     "metadata": {},
     "output_type": "execute_result"
    }
   ],
   "source": [
    "%%time\n",
    "con.sql('SELECT COD_UF as UF,COUNT(COD_UF) AS Total_de_Registros FROM DATA_IBGE GROUP BY COD_UF')\n"
   ]
  },
  {
   "cell_type": "code",
   "execution_count": 19,
   "metadata": {},
   "outputs": [],
   "source": [
    "con.close()\n",
    "\n",
    "\n"
   ]
  },
  {
   "cell_type": "code",
   "execution_count": 20,
   "metadata": {},
   "outputs": [],
   "source": [
    "# Utilizado a documentação do Duck DB referenciada: https://duckdb.org/docs/guides/index\n",
    "# Parquet Files https://duckdb.org/docs/data/partitioning/partitioned_writes\n",
    "# How to head CSV Files https://duckdb.org/docs/guides/import/csv_import\n"
   ]
  }
 ],
 "metadata": {
  "kernelspec": {
   "display_name": "base",
   "language": "python",
   "name": "python3"
  },
  "language_info": {
   "codemirror_mode": {
    "name": "ipython",
    "version": 3
   },
   "file_extension": ".py",
   "mimetype": "text/x-python",
   "name": "python",
   "nbconvert_exporter": "python",
   "pygments_lexer": "ipython3",
   "version": "3.11.5"
  }
 },
 "nbformat": 4,
 "nbformat_minor": 2
}
