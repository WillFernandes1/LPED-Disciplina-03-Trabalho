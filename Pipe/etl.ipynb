{
 "cells": [
  {
   "cell_type": "code",
   "execution_count": 1,
   "metadata": {},
   "outputs": [],
   "source": [
    "import duckdb\n",
    "import os\n",
    "# Importa as Libs e Cria o Banco de Dados onde será persistido posteriormente os dados.\n",
    "con = duckdb.connect(database=\"ibge.db\",read_only=False)"
   ]
  },
  {
   "cell_type": "code",
   "execution_count": 2,
   "metadata": {},
   "outputs": [
    {
     "data": {
      "text/plain": [
       "<duckdb.duckdb.DuckDBPyConnection at 0x212e40af970>"
      ]
     },
     "execution_count": 2,
     "metadata": {},
     "output_type": "execute_result"
    }
   ],
   "source": [
    "#Cria a tabela se ela não existir, definida por DATA_IBGE.\n",
    "\n",
    "#COD_UF\n",
    "#COD_MUN\n",
    "#COD_ESPECIE\n",
    "#LATITUDE\n",
    "#LONGITUDE\n",
    "\n",
    "con.execute(\n",
    "\n",
    "\"\"\"\n",
    "\n",
    "  CREATE TABLE IF NOT EXISTS DATA_IBGE (\n",
    "  COD_UF       INTEGER  NOT NULL\n",
    "  ,COD_MUN      INTEGER  NOT NULL\n",
    "  ,COD_ESPECIE  INTEGER  NOT NULL\n",
    "  ,LATITUDE       NUMERIC(9,6) NOT NULL\n",
    "  ,LONGITUDE      NUMERIC(10,6) NOT NULL\n",
    "  ,NV_GEO_COORD INTEGER  NOT NULL\n",
    ") \n",
    "\"\"\"\n",
    ")"
   ]
  },
  {
   "cell_type": "code",
   "execution_count": 11,
   "metadata": {},
   "outputs": [
    {
     "data": {
      "text/plain": [
       "┌────────┬─────────┬─────────────┬──────────────┬───────────────┬──────────────┐\n",
       "│ COD_UF │ COD_MUN │ COD_ESPECIE │   LATITUDE   │   LONGITUDE   │ NV_GEO_COORD │\n",
       "│ int32  │  int32  │    int32    │ decimal(9,6) │ decimal(10,6) │    int32     │\n",
       "├──────────────────────────────────────────────────────────────────────────────┤\n",
       "│                                    0 rows                                    │\n",
       "└──────────────────────────────────────────────────────────────────────────────┘"
      ]
     },
     "execution_count": 11,
     "metadata": {},
     "output_type": "execute_result"
    }
   ],
   "source": [
    "#Verificando se a tabela foi criada.\n",
    "con.sql(\"SELECT * FROM DATA_IBGE\")\n"
   ]
  },
  {
   "cell_type": "code",
   "execution_count": 4,
   "metadata": {},
   "outputs": [
    {
     "name": "stdout",
     "output_type": "stream",
     "text": [
      "c:\\Users\\wilke\\OneDrive\\Área de Trabalho\\Unifor\\Engenharia de dados\\IBGE\\Pipe\n"
     ]
    }
   ],
   "source": [
    "#Obtendo caminho local\n",
    "#Uma outra possibilidade seria a solução também, ser utilizada lendo diretamente em outros serviços, o google collab para fins de estudos poderia ler diretamente no google drive, fazendo a conexão com o google drive ou demais fontes conectoras em nuvem.\n",
    "#No caso utilizei a leitura local.\n",
    "\n",
    "path = os.getcwd()\n",
    "\n",
    "print(path)\n",
    "\n"
   ]
  },
  {
   "cell_type": "code",
   "execution_count": 8,
   "metadata": {},
   "outputs": [
    {
     "data": {
      "application/vnd.jupyter.widget-view+json": {
       "model_id": "1780e270ed3d40128f98310f3543dad9",
       "version_major": 2,
       "version_minor": 0
      },
      "text/plain": [
       "FloatProgress(value=0.0, layout=Layout(width='auto'), style=ProgressStyle(bar_color='black'))"
      ]
     },
     "metadata": {},
     "output_type": "display_data"
    }
   ],
   "source": [
    "con.sql(f\"COPY (SELECT * FROM '{path}/*.csv') TO 'data'   (FORMAT PARQUET,PER_THREAD_OUTPUT true, COMPRESSION ZSTD,OVERWRITE_OR_IGNORE 1, ROW_GROUP_SIZE 100_000);\")\n",
    "#salvando em parquet no folder data, onde poderia ser uma outra camada do processo, dependendo da arquitetura, parametros de encoding viabilizados pela documentação\n",
    "#dividindo os parquets em 7 partes, isto pode ser utilizado com outras estratégias de armazenamento."
   ]
  },
  {
   "cell_type": "markdown",
   "metadata": {},
   "source": [
    "orders\n",
    "├── year=2021\n",
    "│    ├── month=1\n",
    "│    │   ├── data_1.parquet\n",
    "│    │   └── data_2.parquet\n",
    "│    └── month=2\n",
    "│        └── data_1.parquet\n",
    "└── year=2022\n",
    "     ├── month=11\n",
    "     │   ├── data_1.parquet\n",
    "     │   └── data_2.parquet\n",
    "     └── month=12\n",
    "         └── data_1.parquet\n"
   ]
  },
  {
   "cell_type": "markdown",
   "metadata": {},
   "source": [
    "Exemplos: \n",
    "\n",
    "orders\n",
    "├── year=2021\n",
    "│    ├── month=1\n",
    "│    │   ├── file1.parquet\n",
    "│    │   └── file2.parquet\n",
    "│    └── month=2\n",
    "│        └── file3.parquet\n",
    "└── year=2022\n",
    "     ├── month=11\n",
    "     │   ├── file4.parquet\n",
    "     │   └── file5.parquet\n",
    "     └── month=12\n",
    "         └── file6.parquet\n",
    "https://duckdb.org/docs/data/partitioning/hive_partitioning"
   ]
  },
  {
   "cell_type": "code",
   "execution_count": null,
   "metadata": {},
   "outputs": [],
   "source": [
    "\n",
    "con.sql(f\"INSERT INTO DATA_IBGE SELECT * FROM '{path}/data/*.parquet'\")"
   ]
  },
  {
   "cell_type": "code",
   "execution_count": null,
   "metadata": {},
   "outputs": [
    {
     "data": {
      "text/plain": [
       "┌─────────────────┐\n",
       "│ TOTAL_DE_LINHAS │\n",
       "│      int64      │\n",
       "├─────────────────┤\n",
       "│       111102875 │\n",
       "└─────────────────┘"
      ]
     },
     "execution_count": 36,
     "metadata": {},
     "output_type": "execute_result"
    }
   ],
   "source": [
    "con.sql(\"SELECT COUNT(*)  AS TOTAL_DE_LINHAS FROM DATA_IBGE\")\n",
    "#Verificando o total de linhas inseridas"
   ]
  },
  {
   "cell_type": "code",
   "execution_count": null,
   "metadata": {},
   "outputs": [
    {
     "data": {
      "text/plain": [
       "┌───────┬────────────────────┐\n",
       "│  UF   │ Total_de_Registros │\n",
       "│ int32 │       int64        │\n",
       "├───────┼────────────────────┤\n",
       "│    11 │             965370 │\n",
       "│    12 │             410524 │\n",
       "│    13 │            1658970 │\n",
       "│    14 │             260515 │\n",
       "│    15 │            3911170 │\n",
       "│    16 │             312665 │\n",
       "│    17 │             848437 │\n",
       "│    21 │            3257843 │\n",
       "│    22 │            1891421 │\n",
       "│    23 │            4750642 │\n",
       "│     · │               ·    │\n",
       "│     · │               ·    │\n",
       "│     · │               ·    │\n",
       "│    32 │            2221348 │\n",
       "│    33 │            8962200 │\n",
       "│    35 │           22953725 │\n",
       "│    41 │            6122025 │\n",
       "│    42 │            4181139 │\n",
       "│    43 │            6456747 │\n",
       "│    50 │            1507819 │\n",
       "│    51 │            1985314 │\n",
       "│    52 │            3960937 │\n",
       "│    53 │            1318887 │\n",
       "├───────┴────────────────────┤\n",
       "│     27 rows (20 shown)     │\n",
       "└────────────────────────────┘"
      ]
     },
     "execution_count": 37,
     "metadata": {},
     "output_type": "execute_result"
    }
   ],
   "source": [
    "con.sql('SELECT COD_UF as UF,COUNT(COD_UF) AS Total_de_Registros FROM DATA_IBGE GROUP BY COD_UF')"
   ]
  },
  {
   "cell_type": "code",
   "execution_count": null,
   "metadata": {},
   "outputs": [],
   "source": [
    "con.close()\n"
   ]
  },
  {
   "cell_type": "code",
   "execution_count": null,
   "metadata": {},
   "outputs": [],
   "source": [
    "# Utilizado a documentação do Duck DB referenciada: https://duckdb.org/docs/guides/index\n",
    "# Parquet Files https://duckdb.org/docs/data/partitioning/partitioned_writes\n",
    "# How to head CSV Files https://duckdb.org/docs/guides/import/csv_import\n"
   ]
  }
 ],
 "metadata": {
  "kernelspec": {
   "display_name": "base",
   "language": "python",
   "name": "python3"
  },
  "language_info": {
   "codemirror_mode": {
    "name": "ipython",
    "version": 3
   },
   "file_extension": ".py",
   "mimetype": "text/x-python",
   "name": "python",
   "nbconvert_exporter": "python",
   "pygments_lexer": "ipython3",
   "version": "3.11.5"
  }
 },
 "nbformat": 4,
 "nbformat_minor": 2
}
